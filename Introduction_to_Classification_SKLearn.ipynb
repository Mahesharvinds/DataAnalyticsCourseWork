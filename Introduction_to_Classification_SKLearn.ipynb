{
  "nbformat": 4,
  "nbformat_minor": 0,
  "metadata": {
    "colab": {
      "name": "Introduction_to_Classification_SKLearn.ipynb",
      "version": "0.3.2",
      "provenance": [],
      "toc_visible": true,
      "include_colab_link": true
    },
    "kernelspec": {
      "display_name": "Python 3",
      "language": "python",
      "name": "python3"
    }
  },
  "cells": [
    {
      "cell_type": "markdown",
      "metadata": {
        "id": "view-in-github",
        "colab_type": "text"
      },
      "source": [
        "<a href=\"https://colab.research.google.com/github/Mahesharvinds/DataAnalyticsCourseWork/blob/master/Introduction_to_Classification_SKLearn.ipynb\" target=\"_parent\"><img src=\"https://colab.research.google.com/assets/colab-badge.svg\" alt=\"Open In Colab\"/></a>"
      ]
    },
    {
      "metadata": {
        "id": "ksH5cBSOlTRI",
        "colab_type": "text"
      },
      "cell_type": "markdown",
      "source": [
        "## Getting started with Classification using SK Learn"
      ]
    },
    {
      "metadata": {
        "id": "FE9Y-BOblTRN",
        "colab_type": "text"
      },
      "cell_type": "markdown",
      "source": [
        "### Importing necessary packages and modules"
      ]
    },
    {
      "metadata": {
        "id": "MGLVVnhxlTRP",
        "colab_type": "code",
        "colab": {}
      },
      "cell_type": "code",
      "source": [
        "import pandas as pd\n",
        "from sklearn.model_selection import train_test_split  \n",
        "from sklearn.tree import DecisionTreeClassifier\n",
        "from sklearn.neighbors import KNeighborsClassifier \n",
        "from sklearn.linear_model import LogisticRegression\n",
        "from sklearn.metrics import confusion_matrix \n",
        "from sklearn.metrics import accuracy_score\n",
        "from sklearn.metrics import classification_report"
      ],
      "execution_count": 0,
      "outputs": []
    },
    {
      "metadata": {
        "id": "EoOVE_-OlTRY",
        "colab_type": "text"
      },
      "cell_type": "markdown",
      "source": [
        "### Loading the \"Forest Cover Type Prediction\" data set into Pandas Data Frame"
      ]
    },
    {
      "metadata": {
        "id": "TFxWzmHMlTRa",
        "colab_type": "code",
        "colab": {}
      },
      "cell_type": "code",
      "source": [
        "data = pd.read_csv(\"Forest_Cover_Type_Prediction.csv\")"
      ],
      "execution_count": 0,
      "outputs": []
    },
    {
      "metadata": {
        "id": "_aoUZE02lTRg",
        "colab_type": "text"
      },
      "cell_type": "markdown",
      "source": [
        "### Slicing the data into Predictors and Response variable"
      ]
    },
    {
      "metadata": {
        "id": "oNnHbeItlTRj",
        "colab_type": "code",
        "colab": {}
      },
      "cell_type": "code",
      "source": [
        "predictors = data.iloc[:,0:55]\n",
        "response = data.iloc[:,55]"
      ],
      "execution_count": 0,
      "outputs": []
    },
    {
      "metadata": {
        "id": "dxxT8F_nlTRo",
        "colab_type": "text"
      },
      "cell_type": "markdown",
      "source": [
        "### Splitting the data into Training Tuples and Testing Tuples"
      ]
    },
    {
      "metadata": {
        "id": "C1j0VYtXlTRq",
        "colab_type": "code",
        "colab": {}
      },
      "cell_type": "code",
      "source": [
        "train_predictors, test_predictors, train_response, test_response = train_test_split(predictors, response, random_state = 0)"
      ],
      "execution_count": 0,
      "outputs": []
    },
    {
      "metadata": {
        "id": "jjl3hRLclTRu",
        "colab_type": "text"
      },
      "cell_type": "markdown",
      "source": [
        "### Buliding a Decision Tree classifier model"
      ]
    },
    {
      "metadata": {
        "id": "XjBmSI3zlTRv",
        "colab_type": "code",
        "colab": {}
      },
      "cell_type": "code",
      "source": [
        "dt_model = DecisionTreeClassifier().fit(train_predictors, train_response)"
      ],
      "execution_count": 0,
      "outputs": []
    },
    {
      "metadata": {
        "id": "KoRbmrc2lTRz",
        "colab_type": "text"
      },
      "cell_type": "markdown",
      "source": [
        "### Predicting the Response varible for test tuples"
      ]
    },
    {
      "metadata": {
        "id": "dDYV9022lTR3",
        "colab_type": "code",
        "colab": {}
      },
      "cell_type": "code",
      "source": [
        "predicted_test_response = dt_model.predict(test_predictors) "
      ],
      "execution_count": 0,
      "outputs": []
    },
    {
      "metadata": {
        "id": "_dmnbYYxlTR8",
        "colab_type": "text"
      },
      "cell_type": "markdown",
      "source": [
        "### Performance Evaluation of Decision Tree (Confusion Matrix, Accuracy Score & Classification Report)\n"
      ]
    },
    {
      "metadata": {
        "id": "cnJSZyEwlTR_",
        "colab_type": "code",
        "colab": {
          "base_uri": "https://localhost:8080/",
          "height": 136
        },
        "outputId": "192fa91e-4404-4f08-8b06-bfda52e42547"
      },
      "cell_type": "code",
      "source": [
        "confusion_matrix(test_response, predicted_test_response)"
      ],
      "execution_count": 9,
      "outputs": [
        {
          "output_type": "execute_result",
          "data": {
            "text/plain": [
              "array([[343, 131,   2,   0,  12,   4,  53],\n",
              "       [121, 318,  15,   0,  50,  11,  10],\n",
              "       [  1,  10, 411,  28,  15,  86,   0],\n",
              "       [  0,   0,  29, 487,   1,  27,   0],\n",
              "       [ 19,  49,  11,   0, 433,  12,   1],\n",
              "       [  6,  21,  82,  13,   5, 432,   0],\n",
              "       [ 42,   6,   0,   0,   0,   0, 483]])"
            ]
          },
          "metadata": {
            "tags": []
          },
          "execution_count": 9
        }
      ]
    },
    {
      "metadata": {
        "id": "4CD3q5IRlTSI",
        "colab_type": "code",
        "colab": {
          "base_uri": "https://localhost:8080/",
          "height": 34
        },
        "outputId": "0ec94ab5-8a67-4b47-aa6f-a14449386b4b"
      },
      "cell_type": "code",
      "source": [
        "accuracy_score(test_response, predicted_test_response)"
      ],
      "execution_count": 10,
      "outputs": [
        {
          "output_type": "execute_result",
          "data": {
            "text/plain": [
              "0.7690476190476191"
            ]
          },
          "metadata": {
            "tags": []
          },
          "execution_count": 10
        }
      ]
    },
    {
      "metadata": {
        "id": "smVXBRe8lTSN",
        "colab_type": "code",
        "colab": {
          "base_uri": "https://localhost:8080/",
          "height": 221
        },
        "outputId": "4954d491-eb31-4f13-e818-3c03b02ef2b1"
      },
      "cell_type": "code",
      "source": [
        "print(classification_report(test_response,predicted_test_response))"
      ],
      "execution_count": 11,
      "outputs": [
        {
          "output_type": "stream",
          "text": [
            "             precision    recall  f1-score   support\n",
            "\n",
            "          1       0.64      0.63      0.64       545\n",
            "          2       0.59      0.61      0.60       525\n",
            "          3       0.75      0.75      0.75       551\n",
            "          4       0.92      0.90      0.91       544\n",
            "          5       0.84      0.82      0.83       525\n",
            "          6       0.76      0.77      0.76       559\n",
            "          7       0.88      0.91      0.90       531\n",
            "\n",
            "avg / total       0.77      0.77      0.77      3780\n",
            "\n"
          ],
          "name": "stdout"
        }
      ]
    },
    {
      "metadata": {
        "id": "2ePWXByalTSS",
        "colab_type": "text"
      },
      "cell_type": "markdown",
      "source": [
        "### Buliding a K Nearest Neighbour classifier model"
      ]
    },
    {
      "metadata": {
        "id": "40V3MpPilTST",
        "colab_type": "code",
        "colab": {}
      },
      "cell_type": "code",
      "source": [
        "knn_model = KNeighborsClassifier().fit(train_predictors, train_response)"
      ],
      "execution_count": 0,
      "outputs": []
    },
    {
      "metadata": {
        "id": "inQwlrLslTSX",
        "colab_type": "text"
      },
      "cell_type": "markdown",
      "source": [
        "### Predicting the Response varible for test tuples"
      ]
    },
    {
      "metadata": {
        "id": "9ektxIZNlTSY",
        "colab_type": "code",
        "colab": {}
      },
      "cell_type": "code",
      "source": [
        "predicted_test_response = knn_model.predict(test_predictors)  "
      ],
      "execution_count": 0,
      "outputs": []
    },
    {
      "metadata": {
        "id": "c6hLGb5klTSb",
        "colab_type": "text"
      },
      "cell_type": "markdown",
      "source": [
        "### Performance Evaluation of KNN (Confusion Matrix, Accuracy Score & Classification Report)"
      ]
    },
    {
      "metadata": {
        "id": "mVIFzCkZlTSd",
        "colab_type": "code",
        "colab": {
          "base_uri": "https://localhost:8080/",
          "height": 136
        },
        "outputId": "a6718b54-5b16-48d4-b42d-38c110457ba8"
      },
      "cell_type": "code",
      "source": [
        "confusion_matrix(test_response, predicted_test_response)"
      ],
      "execution_count": 14,
      "outputs": [
        {
          "output_type": "execute_result",
          "data": {
            "text/plain": [
              "array([[358,  96,   2,   0,  16,   4,  69],\n",
              "       [109, 295,  19,   1,  69,  18,  14],\n",
              "       [  0,   4, 407,  68,  12,  60,   0],\n",
              "       [  0,   0,  15, 511,   0,  18,   0],\n",
              "       [  2,  13,   8,   0, 499,   3,   0],\n",
              "       [  0,   5,  63,  35,  18, 438,   0],\n",
              "       [ 18,   1,   0,   0,   0,   0, 512]])"
            ]
          },
          "metadata": {
            "tags": []
          },
          "execution_count": 14
        }
      ]
    },
    {
      "metadata": {
        "id": "vXYeBM2WlTSi",
        "colab_type": "code",
        "colab": {
          "base_uri": "https://localhost:8080/",
          "height": 34
        },
        "outputId": "23124061-fb25-47fe-93f8-d88da5f739a0"
      },
      "cell_type": "code",
      "source": [
        "accuracy_score(test_response, predicted_test_response)"
      ],
      "execution_count": 15,
      "outputs": [
        {
          "output_type": "execute_result",
          "data": {
            "text/plain": [
              "0.798941798941799"
            ]
          },
          "metadata": {
            "tags": []
          },
          "execution_count": 15
        }
      ]
    },
    {
      "metadata": {
        "id": "HSe4tDEwlTSu",
        "colab_type": "code",
        "colab": {
          "base_uri": "https://localhost:8080/",
          "height": 221
        },
        "outputId": "aa81a9e0-0c8a-416a-e7a4-b106ac930c76"
      },
      "cell_type": "code",
      "source": [
        "print(classification_report(test_response,predicted_test_response))"
      ],
      "execution_count": 16,
      "outputs": [
        {
          "output_type": "stream",
          "text": [
            "             precision    recall  f1-score   support\n",
            "\n",
            "          1       0.74      0.66      0.69       545\n",
            "          2       0.71      0.56      0.63       525\n",
            "          3       0.79      0.74      0.76       551\n",
            "          4       0.83      0.94      0.88       544\n",
            "          5       0.81      0.95      0.88       525\n",
            "          6       0.81      0.78      0.80       559\n",
            "          7       0.86      0.96      0.91       531\n",
            "\n",
            "avg / total       0.79      0.80      0.79      3780\n",
            "\n"
          ],
          "name": "stdout"
        }
      ]
    },
    {
      "metadata": {
        "id": "3CdVG_A3lTS1",
        "colab_type": "text"
      },
      "cell_type": "markdown",
      "source": [
        "### Buliding a Logistic Regression classifier model"
      ]
    },
    {
      "metadata": {
        "id": "MV5Er6TYlTS2",
        "colab_type": "code",
        "colab": {}
      },
      "cell_type": "code",
      "source": [
        "lr_model = LogisticRegression().fit(train_predictors, train_response)"
      ],
      "execution_count": 0,
      "outputs": []
    },
    {
      "metadata": {
        "id": "56TCc_SllTS7",
        "colab_type": "text"
      },
      "cell_type": "markdown",
      "source": [
        "### Predicting the Response varible for test tuples"
      ]
    },
    {
      "metadata": {
        "id": "0rQ_3s4RlTS8",
        "colab_type": "code",
        "colab": {}
      },
      "cell_type": "code",
      "source": [
        "predicted_test_response = lr_model.predict(test_predictors)  "
      ],
      "execution_count": 0,
      "outputs": []
    },
    {
      "metadata": {
        "id": "er_pY0RwlTTA",
        "colab_type": "text"
      },
      "cell_type": "markdown",
      "source": [
        "### Performance Evaluation of KNN (Confusion Matrix, Accuracy Score & Classification Report)"
      ]
    },
    {
      "metadata": {
        "id": "SyPl0J29lTTF",
        "colab_type": "code",
        "colab": {
          "base_uri": "https://localhost:8080/",
          "height": 136
        },
        "outputId": "0bb28d53-ecd3-4df8-d526-19a83f009d35"
      },
      "cell_type": "code",
      "source": [
        "confusion_matrix(test_response, predicted_test_response)"
      ],
      "execution_count": 19,
      "outputs": [
        {
          "output_type": "execute_result",
          "data": {
            "text/plain": [
              "array([[277, 127,   2,   0,  33,   8,  98],\n",
              "       [ 87, 283,  16,   0, 103,  18,  18],\n",
              "       [  0,   4, 257,  93,  34, 163,   0],\n",
              "       [  0,   0,  32, 482,   0,  29,   1],\n",
              "       [ 17, 104,  36,   0, 336,  30,   2],\n",
              "       [  0,  17, 103,  54,  56, 328,   1],\n",
              "       [ 30,   3,   0,   0,   0,   0, 498]])"
            ]
          },
          "metadata": {
            "tags": []
          },
          "execution_count": 19
        }
      ]
    },
    {
      "metadata": {
        "id": "VgIp-7OQlTTK",
        "colab_type": "code",
        "colab": {
          "base_uri": "https://localhost:8080/",
          "height": 34
        },
        "outputId": "245c12ed-e852-4c54-e840-05e38f57b657"
      },
      "cell_type": "code",
      "source": [
        "accuracy_score(test_response, predicted_test_response)"
      ],
      "execution_count": 20,
      "outputs": [
        {
          "output_type": "execute_result",
          "data": {
            "text/plain": [
              "0.6510582010582011"
            ]
          },
          "metadata": {
            "tags": []
          },
          "execution_count": 20
        }
      ]
    },
    {
      "metadata": {
        "id": "TYmHtzlqlTTO",
        "colab_type": "code",
        "colab": {
          "base_uri": "https://localhost:8080/",
          "height": 221
        },
        "outputId": "49dcbe63-1283-4fa7-d153-670c7f4134dd"
      },
      "cell_type": "code",
      "source": [
        "print(classification_report(test_response,predicted_test_response))"
      ],
      "execution_count": 21,
      "outputs": [
        {
          "output_type": "stream",
          "text": [
            "             precision    recall  f1-score   support\n",
            "\n",
            "          1       0.67      0.51      0.58       545\n",
            "          2       0.53      0.54      0.53       525\n",
            "          3       0.58      0.47      0.52       551\n",
            "          4       0.77      0.89      0.82       544\n",
            "          5       0.60      0.64      0.62       525\n",
            "          6       0.57      0.59      0.58       559\n",
            "          7       0.81      0.94      0.87       531\n",
            "\n",
            "avg / total       0.64      0.65      0.64      3780\n",
            "\n"
          ],
          "name": "stdout"
        }
      ]
    }
  ]
}