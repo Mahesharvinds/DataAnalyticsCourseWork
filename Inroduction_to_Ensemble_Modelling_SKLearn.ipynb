{
  "nbformat": 4,
  "nbformat_minor": 0,
  "metadata": {
    "colab": {
      "name": "Inroduction_to_Ensemble_Modelling_SKLearn.ipynb",
      "version": "0.3.2",
      "provenance": [],
      "include_colab_link": true
    },
    "kernelspec": {
      "display_name": "Python 3",
      "language": "python",
      "name": "python3"
    }
  },
  "cells": [
    {
      "cell_type": "markdown",
      "metadata": {
        "id": "view-in-github",
        "colab_type": "text"
      },
      "source": [
        "<a href=\"https://colab.research.google.com/github/Mahesharvinds/DataAnalyticsCourseWork/blob/master/Inroduction_to_Ensemble_Modelling_SKLearn.ipynb\" target=\"_parent\"><img src=\"https://colab.research.google.com/assets/colab-badge.svg\" alt=\"Open In Colab\"/></a>"
      ]
    },
    {
      "metadata": {
        "id": "CS6Aabuv_WCK",
        "colab_type": "text"
      },
      "cell_type": "markdown",
      "source": [
        "## Getting started with Ensemble Modelling using SK Learn"
      ]
    },
    {
      "metadata": {
        "id": "YBYFj2nM_WCM",
        "colab_type": "text"
      },
      "cell_type": "markdown",
      "source": [
        "### Importing necessary packages and modules"
      ]
    },
    {
      "metadata": {
        "id": "y1qQzHqd_WCO",
        "colab_type": "code",
        "colab": {}
      },
      "cell_type": "code",
      "source": [
        "import pandas as pd\n",
        "from sklearn.model_selection import train_test_split \n",
        "from sklearn.ensemble import RandomForestClassifier\n",
        "from sklearn.ensemble import BaggingClassifier\n",
        "from sklearn.ensemble import GradientBoostingClassifier\n",
        "from sklearn.metrics import confusion_matrix \n",
        "from sklearn import model_selection\n",
        "from sklearn.metrics import accuracy_score\n",
        "from sklearn.metrics import classification_report"
      ],
      "execution_count": 0,
      "outputs": []
    },
    {
      "metadata": {
        "id": "UIpgpoVE_WCT",
        "colab_type": "text"
      },
      "cell_type": "markdown",
      "source": [
        "### Loading the \"Forest Cover Type Prediction\" data set into Pandas Data Frame"
      ]
    },
    {
      "metadata": {
        "id": "ikYiPRzo_WCV",
        "colab_type": "code",
        "colab": {}
      },
      "cell_type": "code",
      "source": [
        "data = pd.read_csv(\"Forest_Cover_Type_Prediction.csv\")"
      ],
      "execution_count": 0,
      "outputs": []
    },
    {
      "metadata": {
        "id": "6FLvW2Aa_WCY",
        "colab_type": "text"
      },
      "cell_type": "markdown",
      "source": [
        "### Slicing the data into Predictors and Response variable"
      ]
    },
    {
      "metadata": {
        "id": "TAFHFDGq_WCa",
        "colab_type": "code",
        "colab": {}
      },
      "cell_type": "code",
      "source": [
        "predictors = data.iloc[:,0:55]\n",
        "response = data.iloc[:,55]"
      ],
      "execution_count": 0,
      "outputs": []
    },
    {
      "metadata": {
        "collapsed": true,
        "id": "-MpOk09-_WCe",
        "colab_type": "text"
      },
      "cell_type": "markdown",
      "source": [
        "### Splitting the data into Training Set and Testing Set"
      ]
    },
    {
      "metadata": {
        "id": "8oOzpasV_WCg",
        "colab_type": "code",
        "colab": {}
      },
      "cell_type": "code",
      "source": [
        "train_predictors, test_predictors, train_response, test_response = train_test_split(predictors, response, random_state = 0)"
      ],
      "execution_count": 0,
      "outputs": []
    },
    {
      "metadata": {
        "id": "nZZe-Xo6_WCk",
        "colab_type": "text"
      },
      "cell_type": "markdown",
      "source": [
        "### K Fold Cross Validation Data Split"
      ]
    },
    {
      "metadata": {
        "id": "uoq3GOk9_WCl",
        "colab_type": "code",
        "colab": {}
      },
      "cell_type": "code",
      "source": [
        "kfold = model_selection.KFold(n_splits=10, random_state=3)"
      ],
      "execution_count": 0,
      "outputs": []
    },
    {
      "metadata": {
        "id": "rcaexfqD_WCq",
        "colab_type": "text"
      },
      "cell_type": "markdown",
      "source": [
        "### Bagging Ensemble Classifier Model"
      ]
    },
    {
      "metadata": {
        "id": "K0ENTfGS_WCr",
        "colab_type": "code",
        "colab": {}
      },
      "cell_type": "code",
      "source": [
        "bagging_model = BaggingClassifier().fit(train_predictors, train_response) #Model Building\n",
        "predicted_test_response = bagging_model.predict(test_predictors)  #Prediction"
      ],
      "execution_count": 0,
      "outputs": []
    },
    {
      "metadata": {
        "id": "QgUOo9rG_WCx",
        "colab_type": "text"
      },
      "cell_type": "markdown",
      "source": [
        "### Performance Evaluation of Bagging Ensemble Model (Confusion Matrix, Accuracy Score & Classification Report)"
      ]
    },
    {
      "metadata": {
        "id": "3b_LXQIH_WCz",
        "colab_type": "code",
        "colab": {
          "base_uri": "https://localhost:8080/",
          "height": 136
        },
        "outputId": "ae4c3969-9085-4eab-cea8-e63abcff5fcf"
      },
      "cell_type": "code",
      "source": [
        "confusion_matrix(test_response, predicted_test_response)"
      ],
      "execution_count": 9,
      "outputs": [
        {
          "output_type": "execute_result",
          "data": {
            "text/plain": [
              "array([[415,  89,   1,   0,  10,   2,  28],\n",
              "       [119, 325,  17,   0,  47,   9,   8],\n",
              "       [  0,   3, 444,  31,  11,  62,   0],\n",
              "       [  0,   0,  15, 518,   0,  11,   0],\n",
              "       [  3,  28,   9,   0, 480,   5,   0],\n",
              "       [  0,   8,  72,   8,  11, 460,   0],\n",
              "       [ 37,   3,   0,   0,   0,   0, 491]])"
            ]
          },
          "metadata": {
            "tags": []
          },
          "execution_count": 9
        }
      ]
    },
    {
      "metadata": {
        "id": "fwKfprK-_WC-",
        "colab_type": "code",
        "colab": {
          "base_uri": "https://localhost:8080/",
          "height": 34
        },
        "outputId": "7d983087-3b79-4c20-8912-84ee18c3f0bc"
      },
      "cell_type": "code",
      "source": [
        "accuracy_score(test_response, predicted_test_response)"
      ],
      "execution_count": 10,
      "outputs": [
        {
          "output_type": "execute_result",
          "data": {
            "text/plain": [
              "0.8288359788359788"
            ]
          },
          "metadata": {
            "tags": []
          },
          "execution_count": 10
        }
      ]
    },
    {
      "metadata": {
        "id": "NZ1xOfkK_WDH",
        "colab_type": "code",
        "colab": {
          "base_uri": "https://localhost:8080/",
          "height": 221
        },
        "outputId": "dd975c44-b40c-444d-8fd4-70812c8d70eb"
      },
      "cell_type": "code",
      "source": [
        "print(classification_report(test_response,predicted_test_response))"
      ],
      "execution_count": 11,
      "outputs": [
        {
          "output_type": "stream",
          "text": [
            "             precision    recall  f1-score   support\n",
            "\n",
            "          1       0.72      0.76      0.74       545\n",
            "          2       0.71      0.62      0.66       525\n",
            "          3       0.80      0.81      0.80       551\n",
            "          4       0.93      0.95      0.94       544\n",
            "          5       0.86      0.91      0.89       525\n",
            "          6       0.84      0.82      0.83       559\n",
            "          7       0.93      0.92      0.93       531\n",
            "\n",
            "avg / total       0.83      0.83      0.83      3780\n",
            "\n"
          ],
          "name": "stdout"
        }
      ]
    },
    {
      "metadata": {
        "id": "JPG5DURN_WDO",
        "colab_type": "text"
      },
      "cell_type": "markdown",
      "source": [
        "### K Fold Cross Validation of Baggging Ensemble Model"
      ]
    },
    {
      "metadata": {
        "id": "IGtxtV24_WDP",
        "colab_type": "code",
        "colab": {
          "base_uri": "https://localhost:8080/",
          "height": 34
        },
        "outputId": "a659c0c5-547c-4f18-d9c2-3bae1e652805"
      },
      "cell_type": "code",
      "source": [
        "results = model_selection.cross_val_score(bagging_model, train_predictors, train_response, cv=kfold)\n",
        "print(results.mean())"
      ],
      "execution_count": 12,
      "outputs": [
        {
          "output_type": "stream",
          "text": [
            "0.8358024691358024\n"
          ],
          "name": "stdout"
        }
      ]
    },
    {
      "metadata": {
        "collapsed": true,
        "id": "Q-t-nxTB_WDV",
        "colab_type": "text"
      },
      "cell_type": "markdown",
      "source": [
        "### Boosting Ensemble Classifier Model"
      ]
    },
    {
      "metadata": {
        "id": "4TgKPmFI_WDW",
        "colab_type": "code",
        "colab": {}
      },
      "cell_type": "code",
      "source": [
        "boosting_model = GradientBoostingClassifier(n_estimators=100, random_state=3).fit(train_predictors, train_response)\n",
        "predicted_test_response = boosting_model.predict(test_predictors)"
      ],
      "execution_count": 0,
      "outputs": []
    },
    {
      "metadata": {
        "id": "9t-upWvV_WDa",
        "colab_type": "text"
      },
      "cell_type": "markdown",
      "source": [
        "### Performance Evaluation of Boosting Ensemble Model (Confusion Matrix, Accuracy Score & Classification Report)"
      ]
    },
    {
      "metadata": {
        "id": "MAZ_l7O0_WDc",
        "colab_type": "code",
        "colab": {
          "base_uri": "https://localhost:8080/",
          "height": 136
        },
        "outputId": "0f3b9dcf-d831-4cf6-c63b-0808c8399789"
      },
      "cell_type": "code",
      "source": [
        "confusion_matrix(test_response, predicted_test_response)"
      ],
      "execution_count": 14,
      "outputs": [
        {
          "output_type": "execute_result",
          "data": {
            "text/plain": [
              "array([[390,  91,   1,   0,   9,   4,  50],\n",
              "       [123, 305,  14,   0,  58,  16,   9],\n",
              "       [  0,   0, 415,  35,  15,  85,   1],\n",
              "       [  0,   0,   9, 527,   0,   8,   0],\n",
              "       [  0,  40,  13,   0, 458,  14,   0],\n",
              "       [  0,   2,  84,  15,  26, 432,   0],\n",
              "       [ 29,   0,   0,   0,   0,   0, 502]])"
            ]
          },
          "metadata": {
            "tags": []
          },
          "execution_count": 14
        }
      ]
    },
    {
      "metadata": {
        "id": "7qRSgxQe_WDj",
        "colab_type": "code",
        "colab": {
          "base_uri": "https://localhost:8080/",
          "height": 34
        },
        "outputId": "2f77cfc7-3921-48dd-8150-4f885a21485a"
      },
      "cell_type": "code",
      "source": [
        "accuracy_score(test_response, predicted_test_response)"
      ],
      "execution_count": 15,
      "outputs": [
        {
          "output_type": "execute_result",
          "data": {
            "text/plain": [
              "0.8013227513227513"
            ]
          },
          "metadata": {
            "tags": []
          },
          "execution_count": 15
        }
      ]
    },
    {
      "metadata": {
        "id": "uVukDbdq_WDu",
        "colab_type": "code",
        "colab": {
          "base_uri": "https://localhost:8080/",
          "height": 221
        },
        "outputId": "19740e0c-c123-43ea-fb03-246cfb332fc4"
      },
      "cell_type": "code",
      "source": [
        "print(classification_report(test_response,predicted_test_response))"
      ],
      "execution_count": 16,
      "outputs": [
        {
          "output_type": "stream",
          "text": [
            "             precision    recall  f1-score   support\n",
            "\n",
            "          1       0.72      0.72      0.72       545\n",
            "          2       0.70      0.58      0.63       525\n",
            "          3       0.77      0.75      0.76       551\n",
            "          4       0.91      0.97      0.94       544\n",
            "          5       0.81      0.87      0.84       525\n",
            "          6       0.77      0.77      0.77       559\n",
            "          7       0.89      0.95      0.92       531\n",
            "\n",
            "avg / total       0.80      0.80      0.80      3780\n",
            "\n"
          ],
          "name": "stdout"
        }
      ]
    },
    {
      "metadata": {
        "collapsed": true,
        "id": "A0ow4YEN_WD1",
        "colab_type": "text"
      },
      "cell_type": "markdown",
      "source": [
        "### K Fold Cross Validation of Boosting Ensemble Model"
      ]
    },
    {
      "metadata": {
        "id": "Dpo_q_XM_WD4",
        "colab_type": "code",
        "colab": {
          "base_uri": "https://localhost:8080/",
          "height": 34
        },
        "outputId": "6bd36224-60e5-4a66-8259-385c2ada149f"
      },
      "cell_type": "code",
      "source": [
        "results = model_selection.cross_val_score(boosting_model, train_predictors, train_response, cv=kfold)\n",
        "print(results.mean())"
      ],
      "execution_count": 17,
      "outputs": [
        {
          "output_type": "stream",
          "text": [
            "0.8081128747795414\n"
          ],
          "name": "stdout"
        }
      ]
    },
    {
      "metadata": {
        "id": "H39-vsEA_WD-",
        "colab_type": "text"
      },
      "cell_type": "markdown",
      "source": [
        "### RandomForest Ensemble Classifier Model"
      ]
    },
    {
      "metadata": {
        "id": "TYHtHcXE_WEB",
        "colab_type": "code",
        "colab": {}
      },
      "cell_type": "code",
      "source": [
        "rf_model = RandomForestClassifier(n_estimators=100, random_state=3).fit(train_predictors, train_response)\n",
        "predicted_test_response = rf_model.predict(test_predictors)"
      ],
      "execution_count": 0,
      "outputs": []
    },
    {
      "metadata": {
        "id": "9fi8ALqg_WEH",
        "colab_type": "text"
      },
      "cell_type": "markdown",
      "source": [
        "### Performance Evaluation of RandomForest Ensemble Model (Confusion Matrix, Accuracy Score & Classification Report)"
      ]
    },
    {
      "metadata": {
        "id": "eUDlQZz3_WEK",
        "colab_type": "code",
        "colab": {
          "base_uri": "https://localhost:8080/",
          "height": 136
        },
        "outputId": "ea399c3d-9a36-4b28-e71b-9d577b10cac2"
      },
      "cell_type": "code",
      "source": [
        "confusion_matrix(test_response, predicted_test_response)"
      ],
      "execution_count": 19,
      "outputs": [
        {
          "output_type": "execute_result",
          "data": {
            "text/plain": [
              "array([[417,  83,   1,   0,  10,   1,  33],\n",
              "       [ 85, 367,  18,   0,  38,  10,   7],\n",
              "       [  0,   1, 458,  28,   7,  57,   0],\n",
              "       [  0,   0,   9, 528,   0,   7,   0],\n",
              "       [  1,  19,   9,   0, 492,   4,   0],\n",
              "       [  0,   4,  51,  11,  10, 483,   0],\n",
              "       [ 17,   1,   0,   0,   0,   0, 513]])"
            ]
          },
          "metadata": {
            "tags": []
          },
          "execution_count": 19
        }
      ]
    },
    {
      "metadata": {
        "id": "ohs0xHHC_WEO",
        "colab_type": "code",
        "colab": {
          "base_uri": "https://localhost:8080/",
          "height": 34
        },
        "outputId": "94f6dcc7-312d-43e9-8a11-6efb068d889d"
      },
      "cell_type": "code",
      "source": [
        "accuracy_score(test_response, predicted_test_response)"
      ],
      "execution_count": 20,
      "outputs": [
        {
          "output_type": "execute_result",
          "data": {
            "text/plain": [
              "0.861904761904762"
            ]
          },
          "metadata": {
            "tags": []
          },
          "execution_count": 20
        }
      ]
    },
    {
      "metadata": {
        "id": "dZ_y_bHw_WEU",
        "colab_type": "code",
        "colab": {
          "base_uri": "https://localhost:8080/",
          "height": 221
        },
        "outputId": "57d4bb18-6056-4a87-f3bf-042bafd09849"
      },
      "cell_type": "code",
      "source": [
        "print(classification_report(test_response,predicted_test_response))"
      ],
      "execution_count": 21,
      "outputs": [
        {
          "output_type": "stream",
          "text": [
            "             precision    recall  f1-score   support\n",
            "\n",
            "          1       0.80      0.77      0.78       545\n",
            "          2       0.77      0.70      0.73       525\n",
            "          3       0.84      0.83      0.84       551\n",
            "          4       0.93      0.97      0.95       544\n",
            "          5       0.88      0.94      0.91       525\n",
            "          6       0.86      0.86      0.86       559\n",
            "          7       0.93      0.97      0.95       531\n",
            "\n",
            "avg / total       0.86      0.86      0.86      3780\n",
            "\n"
          ],
          "name": "stdout"
        }
      ]
    },
    {
      "metadata": {
        "id": "PKKFJCMU_WEd",
        "colab_type": "text"
      },
      "cell_type": "markdown",
      "source": [
        "### K Fold Cross Validation of Random Forest Ensemble Model"
      ]
    },
    {
      "metadata": {
        "id": "mJjRdX2e_WEh",
        "colab_type": "code",
        "colab": {
          "base_uri": "https://localhost:8080/",
          "height": 34
        },
        "outputId": "db00a83b-75e4-4e01-cbfd-d7a7a2d0de2b"
      },
      "cell_type": "code",
      "source": [
        "results = model_selection.cross_val_score(rf_model, train_predictors, train_response, cv=kfold)\n",
        "print(results.mean())"
      ],
      "execution_count": 22,
      "outputs": [
        {
          "output_type": "stream",
          "text": [
            "0.8715167548500883\n"
          ],
          "name": "stdout"
        }
      ]
    }
  ]
}