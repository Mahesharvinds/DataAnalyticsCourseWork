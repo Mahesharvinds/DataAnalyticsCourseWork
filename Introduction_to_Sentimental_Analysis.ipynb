{
  "nbformat": 4,
  "nbformat_minor": 0,
  "metadata": {
    "colab": {
      "name": "Introduction_to_Sentimental_Analysis.ipynb",
      "version": "0.3.2",
      "provenance": [],
      "include_colab_link": true
    },
    "kernelspec": {
      "name": "python3",
      "display_name": "Python 3"
    }
  },
  "cells": [
    {
      "cell_type": "markdown",
      "metadata": {
        "id": "view-in-github",
        "colab_type": "text"
      },
      "source": [
        "<a href=\"https://colab.research.google.com/github/Mahesharvinds/DataAnalyticsCourseWork/blob/master/Introduction_to_Sentimental_Analysis.ipynb\" target=\"_parent\"><img src=\"https://colab.research.google.com/assets/colab-badge.svg\" alt=\"Open In Colab\"/></a>"
      ]
    },
    {
      "metadata": {
        "id": "JmcR5Id9ZkDM",
        "colab_type": "text"
      },
      "cell_type": "markdown",
      "source": [
        "## **Getting started with Sentimental Analysis using Classification**"
      ]
    },
    {
      "metadata": {
        "id": "CZJiNdrjZ8He",
        "colab_type": "text"
      },
      "cell_type": "markdown",
      "source": [
        "### Loading Necessary Packages"
      ]
    },
    {
      "metadata": {
        "id": "qxobSrGQZqS0",
        "colab_type": "code",
        "colab": {}
      },
      "cell_type": "code",
      "source": [
        "import pandas as pd\n",
        "import numpy as np\n",
        "import matplotlib.pyplot as plt\n",
        "from sklearn.model_selection import train_test_split  \n",
        "from sklearn.metrics import accuracy_score\n",
        "from sklearn.metrics import confusion_matrix\n",
        "from nltk.tokenize import sent_tokenize, word_tokenize\n",
        "from nltk.tokenize import PunktSentenceTokenizer\n",
        "from nltk.tokenize import RegexpTokenizer\n",
        "from nltk.stem import PorterStemmer\n",
        "from nltk import pos_tag\n",
        "from sklearn.feature_extraction.text import TfidfVectorizer"
      ],
      "execution_count": 0,
      "outputs": []
    },
    {
      "metadata": {
        "id": "z79DZwRaaQ-1",
        "colab_type": "text"
      },
      "cell_type": "markdown",
      "source": [
        "### Loading the \"Rotten Tomatoes Movie Review\" data set into Pandas Data Frame"
      ]
    },
    {
      "metadata": {
        "id": "iGWpPfJZZ1_M",
        "colab_type": "code",
        "colab": {}
      },
      "cell_type": "code",
      "source": [
        "data = pd.read_csv(\"train.tsv\",delimiter='\\t')\n",
        "data = data.head(5000)"
      ],
      "execution_count": 0,
      "outputs": []
    },
    {
      "metadata": {
        "id": "UFVopCmHapsS",
        "colab_type": "text"
      },
      "cell_type": "markdown",
      "source": [
        "### Collecting all the adjectives and adverbs ( words that represent the sentiment ) as a separate column"
      ]
    },
    {
      "metadata": {
        "id": "rPyy-0_Yagce",
        "colab_type": "code",
        "colab": {}
      },
      "cell_type": "code",
      "source": [
        "#import nltk\n",
        "#nltk.download('punkt') - Use in case not found\n",
        "#nltk.download('averaged_perceptron_tagger') - Use in case not found\n",
        "adjectives = []\n",
        "for i in range(0,data.shape[0]):\n",
        "    pos_tagged = pos_tag(word_tokenize(data.iloc[i,2]))\n",
        "    string = \"\"\n",
        "    for j in range(0,len(pos_tagged)):\n",
        "        if pos_tagged[j][1] in (\"JJ\",\"JJR\", \"JJS\", \"RB\", \"RBR\", \"RBS\"):\n",
        "            string = string + \" \" + pos_tagged[j][0]\n",
        "    adjectives.append(string)\n",
        "data['Adjective Review'] = adjectives"
      ],
      "execution_count": 0,
      "outputs": []
    },
    {
      "metadata": {
        "id": "t7s9KH0hbnnw",
        "colab_type": "text"
      },
      "cell_type": "markdown",
      "source": [
        "### Dropping all the unnecessary columns"
      ]
    },
    {
      "metadata": {
        "id": "Jo93Pvh1a6wI",
        "colab_type": "code",
        "colab": {
          "base_uri": "https://localhost:8080/",
          "height": 119
        },
        "outputId": "1ec16368-6631-4224-8247-f943d01ca042"
      },
      "cell_type": "code",
      "source": [
        "data = data.drop(\"PhraseId\",axis=1)\n",
        "data = data.drop(\"SentenceId\",axis=1)\n",
        "data = data.drop(\"Phrase\",axis=1)\n",
        "print(data.head())"
      ],
      "execution_count": 13,
      "outputs": [
        {
          "output_type": "stream",
          "text": [
            "   Sentiment                   Adjective Review\n",
            "0          1   good also good occasionally much\n",
            "1          2                               good\n",
            "2          2                                   \n",
            "3          2                                   \n",
            "4          2                                   \n"
          ],
          "name": "stdout"
        }
      ]
    },
    {
      "metadata": {
        "id": "NK0J9FsFbxmH",
        "colab_type": "text"
      },
      "cell_type": "markdown",
      "source": [
        "### Slicing the data into Predictors and Response variables"
      ]
    },
    {
      "metadata": {
        "id": "kGV8ooNXa90r",
        "colab_type": "code",
        "colab": {}
      },
      "cell_type": "code",
      "source": [
        "predictors = data['Adjective Review']\n",
        "response = data[\"Sentiment\"]"
      ],
      "execution_count": 0,
      "outputs": []
    },
    {
      "metadata": {
        "id": "DiJL8uc5b9i9",
        "colab_type": "text"
      },
      "cell_type": "markdown",
      "source": [
        "### TFIDF Vectorization to generate Bag Of Words"
      ]
    },
    {
      "metadata": {
        "id": "mrbct1EYb5rl",
        "colab_type": "code",
        "colab": {}
      },
      "cell_type": "code",
      "source": [
        "tv = TfidfVectorizer(min_df=0.0, max_df=1.0, ngram_range=(1,2),sublinear_tf=True,max_features=1000)\n",
        "tv_features = tv.fit_transform(predictors)"
      ],
      "execution_count": 0,
      "outputs": []
    },
    {
      "metadata": {
        "id": "TRg-yJ07ceJF",
        "colab_type": "text"
      },
      "cell_type": "markdown",
      "source": [
        "### Splitting the data into Training Set and Test Set"
      ]
    },
    {
      "metadata": {
        "id": "SNAyc1xccaho",
        "colab_type": "code",
        "colab": {}
      },
      "cell_type": "code",
      "source": [
        "train_predictors, test_predictors, train_response, test_response = train_test_split(tv_features, response, random_state = 0)"
      ],
      "execution_count": 0,
      "outputs": []
    },
    {
      "metadata": {
        "id": "K7NRIIz8cte9",
        "colab_type": "text"
      },
      "cell_type": "markdown",
      "source": [
        "### Building an RandomForest Classifier Model using SKLearn"
      ]
    },
    {
      "metadata": {
        "id": "QF3HCCCRcmkt",
        "colab_type": "code",
        "colab": {}
      },
      "cell_type": "code",
      "source": [
        "from sklearn.ensemble import RandomForestClassifier\n",
        "model = RandomForestClassifier(max_features = 10).fit(train_predictors, train_response)"
      ],
      "execution_count": 0,
      "outputs": []
    },
    {
      "metadata": {
        "id": "uLz3-975c6qe",
        "colab_type": "text"
      },
      "cell_type": "markdown",
      "source": [
        "### Predicting the Sentiment of the Test Tuple with the RF Model"
      ]
    },
    {
      "metadata": {
        "id": "VlUiq-3Qc3F6",
        "colab_type": "code",
        "colab": {}
      },
      "cell_type": "code",
      "source": [
        "predicted_test_response = model.predict(test_predictors)"
      ],
      "execution_count": 0,
      "outputs": []
    },
    {
      "metadata": {
        "id": "d8TnL9XldHCB",
        "colab_type": "text"
      },
      "cell_type": "markdown",
      "source": [
        "### Generating Confusion Matrix and Calculating the Accuracy Score of the RF Model"
      ]
    },
    {
      "metadata": {
        "id": "wooU0Bd5ds2D",
        "colab_type": "code",
        "colab": {
          "base_uri": "https://localhost:8080/",
          "height": 102
        },
        "outputId": "7edbb9fb-e219-416d-a46d-679187dd36b9"
      },
      "cell_type": "code",
      "source": [
        "confusion_matrix(test_response, predicted_test_response)"
      ],
      "execution_count": 25,
      "outputs": [
        {
          "output_type": "execute_result",
          "data": {
            "text/plain": [
              "array([[ 13,  14,  13,   0,   0],\n",
              "       [ 14,  66, 123,   1,   1],\n",
              "       [  4,  37, 636,  33,   7],\n",
              "       [  0,   6, 129,  84,  11],\n",
              "       [  0,   0,  17,  24,  17]])"
            ]
          },
          "metadata": {
            "tags": []
          },
          "execution_count": 25
        }
      ]
    },
    {
      "metadata": {
        "id": "raQY2A91dDAX",
        "colab_type": "code",
        "colab": {
          "base_uri": "https://localhost:8080/",
          "height": 34
        },
        "outputId": "c7a8f8a9-6c37-4737-dde4-28a7a7eb7d42"
      },
      "cell_type": "code",
      "source": [
        "accuracy_score(test_response, predicted_test_response)"
      ],
      "execution_count": 22,
      "outputs": [
        {
          "output_type": "execute_result",
          "data": {
            "text/plain": [
              "0.6528"
            ]
          },
          "metadata": {
            "tags": []
          },
          "execution_count": 22
        }
      ]
    },
    {
      "metadata": {
        "id": "Hhog7qQzdaIy",
        "colab_type": "text"
      },
      "cell_type": "markdown",
      "source": [
        "### Visulaizing the Distribution of Predicted Sentiments"
      ]
    },
    {
      "metadata": {
        "id": "Ds2SCd_KdZG1",
        "colab_type": "code",
        "colab": {
          "base_uri": "https://localhost:8080/",
          "height": 347
        },
        "outputId": "29f4504d-f403-4927-d714-da514a9b929b"
      },
      "cell_type": "code",
      "source": [
        "Label = ('Neg','Some_Neg','Neutral','Some_Pos','Pos')\n",
        "y_pos = np.arange(len(Label))\n",
        "Sentiment = pd.Series.value_counts(predicted_test_response,sort = False)\n",
        "plt.bar(y_pos,Sentiment,align='center',alpha=0.5)\n",
        "plt.xticks(y_pos,Label)\n",
        "plt.show()\n"
      ],
      "execution_count": 36,
      "outputs": [
        {
          "output_type": "display_data",
          "data": {
            "image/png": "[encoded data removed]",
            "text/plain": [
              "<matplotlib.figure.Figure at 0x7f421d1f9ba8>"
            ]
          },
          "metadata": {
            "tags": []
          }
        }
      ]
    },
    {
      "metadata": {
        "id": "NXJ1tzBwfTK7",
        "colab_type": "code",
        "colab": {}
      },
      "cell_type": "code",
      "source": [
        ""
      ],
      "execution_count": 0,
      "outputs": []
    }
  ]
}